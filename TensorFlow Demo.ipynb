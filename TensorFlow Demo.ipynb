{
 "cells": [
  {
   "cell_type": "code",
   "execution_count": 22,
   "metadata": {
    "collapsed": false
   },
   "outputs": [
    {
     "name": "stdout",
     "output_type": "stream",
     "text": [
      "[[1, 0, 0, 0], [0, 1, 0, 0], [0, 0, 1, 0]]\n",
      "Tensor(\"Shape_11:0\", shape=(2,), dtype=int32)\n",
      "Tensor(\"Rank_300:0\", shape=(), dtype=int32)\n",
      "Tensor(\"Shape_12:0\", shape=(1,), dtype=int32)\n"
     ]
    }
   ],
   "source": [
    "x = [[1,0,0,0],[0,1,0,0],[0,0,1,0]]\n",
    "print x\n",
    "b=tf.Variable(x)\n",
    "print tf.shape(b)\n",
    "print tf.rank(b)\n",
    "y=[1,0,0,\n",
    "   1,0,1]\n",
    "b=tf.Variable(y)\n",
    "print tf.shape(b)  "
   ]
  },
  {
   "cell_type": "code",
   "execution_count": 27,
   "metadata": {
    "collapsed": false
   },
   "outputs": [
    {
     "name": "stdout",
     "output_type": "stream",
     "text": [
      "('cost_function:', 0.084163867)\n",
      "('cost_function:', 0.052889463)\n",
      "('cost_function:', 0.034987435)\n",
      "('cost_function:', 0.024739983)\n",
      "('cost_function:', 0.018874159)\n",
      "('cost_function:', 0.015516455)\n",
      "('cost_function:', 0.013594444)\n",
      "('cost_function:', 0.012494249)\n",
      "('cost_function:', 0.011864479)\n",
      "('cost_function:', 0.011503987)\n",
      "('cost_function:', 0.011297634)\n",
      "('cost_function:', 0.011179515)\n",
      "('cost_function:', 0.011111898)\n",
      "('cost_function:', 0.011073196)\n",
      "('cost_function:', 0.011051043)\n",
      "('cost_function:', 0.01103836)\n",
      "('cost_function:', 0.011031103)\n",
      "('cost_function:', 0.011026946)\n",
      "('cost_function:', 0.011024567)\n",
      "('cost_function:', 0.011023207)\n",
      "('cost_function:', 0.011022427)\n",
      "('cost_function:', 0.011021981)\n",
      "('cost_function:', 0.011021726)\n",
      "('cost_function:', 0.01102158)\n",
      "('cost_function:', 0.011021495)\n",
      "('cost_function:', 0.011021447)\n",
      "('cost_function:', 0.011021419)\n",
      "('cost_function:', 0.011021403)\n",
      "('cost_function:', 0.011021396)\n",
      "('cost_function:', 0.01102139)\n"
     ]
    }
   ],
   "source": [
    "import numpy as np\n",
    "import matplotlib.pyplot as plt\n",
    "import tensorflow as tf\n",
    "number_of_points = 200\n",
    "x_point = []\n",
    "y_point = []\n",
    "a = 0.22\n",
    "b = 0.78\n",
    "for i in range(number_of_points):\n",
    "    x = np.random.normal(0.0,0.5)\n",
    "    y = a*x + b +np.random.normal(0.0,0.1)\n",
    "    x_point.append([x])\n",
    "    y_point.append([y])\n",
    "plt.plot(x_point,y_point, 'o', label='Input Data')\n",
    "plt.legend()\n",
    "plt.show()\n",
    "A = tf.Variable(tf.random_uniform([1], -1.0, 1.0))\n",
    "B = tf.Variable(tf.zeros([1]))\n",
    "y = A * x_point + B\n",
    "cost_function = tf.reduce_mean(tf.square(y - y_point))\n",
    "optimizer = tf.train.GradientDescentOptimizer(0.5)\n",
    "train = optimizer.minimize(cost_function)\n",
    "model = tf.initialize_all_variables()\n",
    "with tf.Session() as session:\n",
    "        session.run(model)\n",
    "        for step in range(0,30):\n",
    "                session.run(train)\n",
    "                \n",
    "                print ('cost_function:', session.run(cost_function))\n",
    "                \n",
    "                if (step % 5) == 0:\n",
    "                        plt.plot(x_point,y_point,'o',\n",
    "                                 label='step = {}'\n",
    "                                 .format(step))\n",
    "                        plt.plot(x_point,\n",
    "                                 session.run(A) * \n",
    "                                 x_point + \n",
    "                                 session.run(B))\n",
    "                        plt.legend()\n",
    "                        plt.show()"
   ]
  },
  {
   "cell_type": "code",
   "execution_count": null,
   "metadata": {
    "collapsed": true
   },
   "outputs": [],
   "source": []
  }
 ],
 "metadata": {
  "kernelspec": {
   "display_name": "Python 2",
   "language": "python",
   "name": "python2"
  },
  "language_info": {
   "codemirror_mode": {
    "name": "ipython",
    "version": 2
   },
   "file_extension": ".py",
   "mimetype": "text/x-python",
   "name": "python",
   "nbconvert_exporter": "python",
   "pygments_lexer": "ipython2",
   "version": "2.7.11"
  }
 },
 "nbformat": 4,
 "nbformat_minor": 0
}
